{
 "cells": [
  {
   "cell_type": "code",
   "execution_count": 41,
   "id": "da8a0925-88a2-4f0c-814f-3f15984dbd16",
   "metadata": {},
   "outputs": [],
   "source": [
    "import matplotlib.pyplot as plt\n",
    "import pandas as pd\n",
    "import numpy as np\n",
    "import seaborn as sns\n",
    "import sklearn as sk\n",
    "from sklearn.preprocessing import StandardScaler\n",
    "from sklearn.model_selection import train_test_split\n",
    "import sklearn.datasets as ds\n",
    "from sklearn.preprocessing import LabelEncoder\n",
    "from sklearn.ensemble import RandomForestRegressor\n",
    "from sklearn.metrics import mean_squared_error, r2_score, mean_absolute_error"
   ]
  },
  {
   "cell_type": "code",
   "execution_count": 2,
   "id": "0bff645d-b4c8-4599-99eb-b3d3b7a46c1b",
   "metadata": {},
   "outputs": [
    {
     "data": {
      "text/html": [
       "<div>\n",
       "<style scoped>\n",
       "    .dataframe tbody tr th:only-of-type {\n",
       "        vertical-align: middle;\n",
       "    }\n",
       "\n",
       "    .dataframe tbody tr th {\n",
       "        vertical-align: top;\n",
       "    }\n",
       "\n",
       "    .dataframe thead th {\n",
       "        text-align: right;\n",
       "    }\n",
       "</style>\n",
       "<table border=\"1\" class=\"dataframe\">\n",
       "  <thead>\n",
       "    <tr style=\"text-align: right;\">\n",
       "      <th></th>\n",
       "      <th>Date</th>\n",
       "      <th>SPX</th>\n",
       "      <th>GLD</th>\n",
       "      <th>USO</th>\n",
       "      <th>SLV</th>\n",
       "      <th>EUR/USD</th>\n",
       "    </tr>\n",
       "  </thead>\n",
       "  <tbody>\n",
       "    <tr>\n",
       "      <th>0</th>\n",
       "      <td>01/02/2008</td>\n",
       "      <td>1447.160034</td>\n",
       "      <td>84.860001</td>\n",
       "      <td>78.470001</td>\n",
       "      <td>15.1800</td>\n",
       "      <td>1.471692</td>\n",
       "    </tr>\n",
       "    <tr>\n",
       "      <th>1</th>\n",
       "      <td>01/03/2008</td>\n",
       "      <td>1447.160034</td>\n",
       "      <td>85.570000</td>\n",
       "      <td>78.370003</td>\n",
       "      <td>15.2850</td>\n",
       "      <td>1.474491</td>\n",
       "    </tr>\n",
       "    <tr>\n",
       "      <th>2</th>\n",
       "      <td>01/04/2008</td>\n",
       "      <td>1411.630005</td>\n",
       "      <td>85.129997</td>\n",
       "      <td>77.309998</td>\n",
       "      <td>15.1670</td>\n",
       "      <td>1.475492</td>\n",
       "    </tr>\n",
       "    <tr>\n",
       "      <th>3</th>\n",
       "      <td>01/07/2008</td>\n",
       "      <td>1416.180054</td>\n",
       "      <td>84.769997</td>\n",
       "      <td>75.500000</td>\n",
       "      <td>15.0530</td>\n",
       "      <td>1.468299</td>\n",
       "    </tr>\n",
       "    <tr>\n",
       "      <th>4</th>\n",
       "      <td>01/08/2008</td>\n",
       "      <td>1390.189941</td>\n",
       "      <td>86.779999</td>\n",
       "      <td>76.059998</td>\n",
       "      <td>15.5900</td>\n",
       "      <td>1.557099</td>\n",
       "    </tr>\n",
       "    <tr>\n",
       "      <th>...</th>\n",
       "      <td>...</td>\n",
       "      <td>...</td>\n",
       "      <td>...</td>\n",
       "      <td>...</td>\n",
       "      <td>...</td>\n",
       "      <td>...</td>\n",
       "    </tr>\n",
       "    <tr>\n",
       "      <th>2285</th>\n",
       "      <td>05/08/2018</td>\n",
       "      <td>2671.919922</td>\n",
       "      <td>124.589996</td>\n",
       "      <td>14.060000</td>\n",
       "      <td>15.5100</td>\n",
       "      <td>1.186789</td>\n",
       "    </tr>\n",
       "    <tr>\n",
       "      <th>2286</th>\n",
       "      <td>05/09/2018</td>\n",
       "      <td>2697.790039</td>\n",
       "      <td>124.330002</td>\n",
       "      <td>14.370000</td>\n",
       "      <td>15.5300</td>\n",
       "      <td>1.184722</td>\n",
       "    </tr>\n",
       "    <tr>\n",
       "      <th>2287</th>\n",
       "      <td>05/10/2018</td>\n",
       "      <td>2723.070068</td>\n",
       "      <td>125.180000</td>\n",
       "      <td>14.410000</td>\n",
       "      <td>15.7400</td>\n",
       "      <td>1.191753</td>\n",
       "    </tr>\n",
       "    <tr>\n",
       "      <th>2288</th>\n",
       "      <td>5/14/2018</td>\n",
       "      <td>2730.129883</td>\n",
       "      <td>124.489998</td>\n",
       "      <td>14.380000</td>\n",
       "      <td>15.5600</td>\n",
       "      <td>1.193118</td>\n",
       "    </tr>\n",
       "    <tr>\n",
       "      <th>2289</th>\n",
       "      <td>5/16/2018</td>\n",
       "      <td>2725.780029</td>\n",
       "      <td>122.543800</td>\n",
       "      <td>14.405800</td>\n",
       "      <td>15.4542</td>\n",
       "      <td>1.182033</td>\n",
       "    </tr>\n",
       "  </tbody>\n",
       "</table>\n",
       "<p>2290 rows × 6 columns</p>\n",
       "</div>"
      ],
      "text/plain": [
       "            Date          SPX         GLD        USO      SLV   EUR/USD\n",
       "0     01/02/2008  1447.160034   84.860001  78.470001  15.1800  1.471692\n",
       "1     01/03/2008  1447.160034   85.570000  78.370003  15.2850  1.474491\n",
       "2     01/04/2008  1411.630005   85.129997  77.309998  15.1670  1.475492\n",
       "3     01/07/2008  1416.180054   84.769997  75.500000  15.0530  1.468299\n",
       "4     01/08/2008  1390.189941   86.779999  76.059998  15.5900  1.557099\n",
       "...          ...          ...         ...        ...      ...       ...\n",
       "2285  05/08/2018  2671.919922  124.589996  14.060000  15.5100  1.186789\n",
       "2286  05/09/2018  2697.790039  124.330002  14.370000  15.5300  1.184722\n",
       "2287  05/10/2018  2723.070068  125.180000  14.410000  15.7400  1.191753\n",
       "2288   5/14/2018  2730.129883  124.489998  14.380000  15.5600  1.193118\n",
       "2289   5/16/2018  2725.780029  122.543800  14.405800  15.4542  1.182033\n",
       "\n",
       "[2290 rows x 6 columns]"
      ]
     },
     "execution_count": 2,
     "metadata": {},
     "output_type": "execute_result"
    }
   ],
   "source": [
    "gold_data = pd.read_csv(\"gold_price_data.csv\")\n",
    "gold_data"
   ]
  },
  {
   "cell_type": "code",
   "execution_count": 3,
   "id": "2cab569d-a403-4dcb-91d6-78d5ebaf33b7",
   "metadata": {},
   "outputs": [
    {
     "data": {
      "text/plain": [
       "(2290, 6)"
      ]
     },
     "execution_count": 3,
     "metadata": {},
     "output_type": "execute_result"
    }
   ],
   "source": [
    "# Get rows and columns\n",
    "gold_data.shape"
   ]
  },
  {
   "cell_type": "code",
   "execution_count": 4,
   "id": "b51fc172-9829-47f0-8a51-5dc229990bb5",
   "metadata": {},
   "outputs": [
    {
     "name": "stdout",
     "output_type": "stream",
     "text": [
      "<class 'pandas.core.frame.DataFrame'>\n",
      "RangeIndex: 2290 entries, 0 to 2289\n",
      "Data columns (total 6 columns):\n",
      " #   Column   Non-Null Count  Dtype  \n",
      "---  ------   --------------  -----  \n",
      " 0   Date     2290 non-null   object \n",
      " 1   SPX      2290 non-null   float64\n",
      " 2   GLD      2290 non-null   float64\n",
      " 3   USO      2290 non-null   float64\n",
      " 4   SLV      2290 non-null   float64\n",
      " 5   EUR/USD  2290 non-null   float64\n",
      "dtypes: float64(5), object(1)\n",
      "memory usage: 107.5+ KB\n"
     ]
    }
   ],
   "source": [
    "# Getting basic information about the data\n",
    "gold_data.info()"
   ]
  },
  {
   "cell_type": "code",
   "execution_count": 5,
   "id": "33c5b28c-84ef-492e-a602-b81be8000622",
   "metadata": {},
   "outputs": [
    {
     "data": {
      "text/plain": [
       "Date       0\n",
       "SPX        0\n",
       "GLD        0\n",
       "USO        0\n",
       "SLV        0\n",
       "EUR/USD    0\n",
       "dtype: int64"
      ]
     },
     "execution_count": 5,
     "metadata": {},
     "output_type": "execute_result"
    }
   ],
   "source": [
    "# Checking the missing values\n",
    "gold_data.isnull().sum()"
   ]
  },
  {
   "cell_type": "code",
   "execution_count": 6,
   "id": "34958926-e961-4a61-b43f-d03d72020371",
   "metadata": {},
   "outputs": [
    {
     "data": {
      "text/html": [
       "<div>\n",
       "<style scoped>\n",
       "    .dataframe tbody tr th:only-of-type {\n",
       "        vertical-align: middle;\n",
       "    }\n",
       "\n",
       "    .dataframe tbody tr th {\n",
       "        vertical-align: top;\n",
       "    }\n",
       "\n",
       "    .dataframe thead th {\n",
       "        text-align: right;\n",
       "    }\n",
       "</style>\n",
       "<table border=\"1\" class=\"dataframe\">\n",
       "  <thead>\n",
       "    <tr style=\"text-align: right;\">\n",
       "      <th></th>\n",
       "      <th>SPX</th>\n",
       "      <th>GLD</th>\n",
       "      <th>USO</th>\n",
       "      <th>SLV</th>\n",
       "      <th>EUR/USD</th>\n",
       "    </tr>\n",
       "  </thead>\n",
       "  <tbody>\n",
       "    <tr>\n",
       "      <th>count</th>\n",
       "      <td>2290.000000</td>\n",
       "      <td>2290.000000</td>\n",
       "      <td>2290.000000</td>\n",
       "      <td>2290.000000</td>\n",
       "      <td>2290.000000</td>\n",
       "    </tr>\n",
       "    <tr>\n",
       "      <th>mean</th>\n",
       "      <td>1654.315776</td>\n",
       "      <td>122.732875</td>\n",
       "      <td>31.842221</td>\n",
       "      <td>20.084997</td>\n",
       "      <td>1.283653</td>\n",
       "    </tr>\n",
       "    <tr>\n",
       "      <th>std</th>\n",
       "      <td>519.111540</td>\n",
       "      <td>23.283346</td>\n",
       "      <td>19.523517</td>\n",
       "      <td>7.092566</td>\n",
       "      <td>0.131547</td>\n",
       "    </tr>\n",
       "    <tr>\n",
       "      <th>min</th>\n",
       "      <td>676.530029</td>\n",
       "      <td>70.000000</td>\n",
       "      <td>7.960000</td>\n",
       "      <td>8.850000</td>\n",
       "      <td>1.039047</td>\n",
       "    </tr>\n",
       "    <tr>\n",
       "      <th>25%</th>\n",
       "      <td>1239.874969</td>\n",
       "      <td>109.725000</td>\n",
       "      <td>14.380000</td>\n",
       "      <td>15.570000</td>\n",
       "      <td>1.171313</td>\n",
       "    </tr>\n",
       "    <tr>\n",
       "      <th>50%</th>\n",
       "      <td>1551.434998</td>\n",
       "      <td>120.580002</td>\n",
       "      <td>33.869999</td>\n",
       "      <td>17.268500</td>\n",
       "      <td>1.303297</td>\n",
       "    </tr>\n",
       "    <tr>\n",
       "      <th>75%</th>\n",
       "      <td>2073.010070</td>\n",
       "      <td>132.840004</td>\n",
       "      <td>37.827501</td>\n",
       "      <td>22.882500</td>\n",
       "      <td>1.369971</td>\n",
       "    </tr>\n",
       "    <tr>\n",
       "      <th>max</th>\n",
       "      <td>2872.870117</td>\n",
       "      <td>184.589996</td>\n",
       "      <td>117.480003</td>\n",
       "      <td>47.259998</td>\n",
       "      <td>1.598798</td>\n",
       "    </tr>\n",
       "  </tbody>\n",
       "</table>\n",
       "</div>"
      ],
      "text/plain": [
       "               SPX          GLD          USO          SLV      EUR/USD\n",
       "count  2290.000000  2290.000000  2290.000000  2290.000000  2290.000000\n",
       "mean   1654.315776   122.732875    31.842221    20.084997     1.283653\n",
       "std     519.111540    23.283346    19.523517     7.092566     0.131547\n",
       "min     676.530029    70.000000     7.960000     8.850000     1.039047\n",
       "25%    1239.874969   109.725000    14.380000    15.570000     1.171313\n",
       "50%    1551.434998   120.580002    33.869999    17.268500     1.303297\n",
       "75%    2073.010070   132.840004    37.827501    22.882500     1.369971\n",
       "max    2872.870117   184.589996   117.480003    47.259998     1.598798"
      ]
     },
     "execution_count": 6,
     "metadata": {},
     "output_type": "execute_result"
    }
   ],
   "source": [
    "# Getting statistical measure of the data\n",
    "gold_data.describe()"
   ]
  },
  {
   "cell_type": "code",
   "execution_count": 7,
   "id": "265adf15-7189-4405-89ba-9f05596bcdec",
   "metadata": {},
   "outputs": [
    {
     "data": {
      "text/html": [
       "<div>\n",
       "<style scoped>\n",
       "    .dataframe tbody tr th:only-of-type {\n",
       "        vertical-align: middle;\n",
       "    }\n",
       "\n",
       "    .dataframe tbody tr th {\n",
       "        vertical-align: top;\n",
       "    }\n",
       "\n",
       "    .dataframe thead th {\n",
       "        text-align: right;\n",
       "    }\n",
       "</style>\n",
       "<table border=\"1\" class=\"dataframe\">\n",
       "  <thead>\n",
       "    <tr style=\"text-align: right;\">\n",
       "      <th></th>\n",
       "      <th>Date</th>\n",
       "      <th>SPX</th>\n",
       "      <th>GLD</th>\n",
       "      <th>USO</th>\n",
       "      <th>SLV</th>\n",
       "      <th>EUR/USD</th>\n",
       "    </tr>\n",
       "  </thead>\n",
       "  <tbody>\n",
       "    <tr>\n",
       "      <th>Date</th>\n",
       "      <td>1.000000</td>\n",
       "      <td>0.944033</td>\n",
       "      <td>0.209118</td>\n",
       "      <td>-0.782230</td>\n",
       "      <td>-0.174108</td>\n",
       "      <td>-0.794540</td>\n",
       "    </tr>\n",
       "    <tr>\n",
       "      <th>SPX</th>\n",
       "      <td>0.944033</td>\n",
       "      <td>1.000000</td>\n",
       "      <td>0.049345</td>\n",
       "      <td>-0.591573</td>\n",
       "      <td>-0.274055</td>\n",
       "      <td>-0.672017</td>\n",
       "    </tr>\n",
       "    <tr>\n",
       "      <th>GLD</th>\n",
       "      <td>0.209118</td>\n",
       "      <td>0.049345</td>\n",
       "      <td>1.000000</td>\n",
       "      <td>-0.186360</td>\n",
       "      <td>0.866632</td>\n",
       "      <td>-0.024375</td>\n",
       "    </tr>\n",
       "    <tr>\n",
       "      <th>USO</th>\n",
       "      <td>-0.782230</td>\n",
       "      <td>-0.591573</td>\n",
       "      <td>-0.186360</td>\n",
       "      <td>1.000000</td>\n",
       "      <td>0.167547</td>\n",
       "      <td>0.829317</td>\n",
       "    </tr>\n",
       "    <tr>\n",
       "      <th>SLV</th>\n",
       "      <td>-0.174108</td>\n",
       "      <td>-0.274055</td>\n",
       "      <td>0.866632</td>\n",
       "      <td>0.167547</td>\n",
       "      <td>1.000000</td>\n",
       "      <td>0.321631</td>\n",
       "    </tr>\n",
       "    <tr>\n",
       "      <th>EUR/USD</th>\n",
       "      <td>-0.794540</td>\n",
       "      <td>-0.672017</td>\n",
       "      <td>-0.024375</td>\n",
       "      <td>0.829317</td>\n",
       "      <td>0.321631</td>\n",
       "      <td>1.000000</td>\n",
       "    </tr>\n",
       "  </tbody>\n",
       "</table>\n",
       "</div>"
      ],
      "text/plain": [
       "             Date       SPX       GLD       USO       SLV   EUR/USD\n",
       "Date     1.000000  0.944033  0.209118 -0.782230 -0.174108 -0.794540\n",
       "SPX      0.944033  1.000000  0.049345 -0.591573 -0.274055 -0.672017\n",
       "GLD      0.209118  0.049345  1.000000 -0.186360  0.866632 -0.024375\n",
       "USO     -0.782230 -0.591573 -0.186360  1.000000  0.167547  0.829317\n",
       "SLV     -0.174108 -0.274055  0.866632  0.167547  1.000000  0.321631\n",
       "EUR/USD -0.794540 -0.672017 -0.024375  0.829317  0.321631  1.000000"
      ]
     },
     "execution_count": 7,
     "metadata": {},
     "output_type": "execute_result"
    }
   ],
   "source": [
    "# Checking the correlation\n",
    "gold_data['Date'] = pd.to_datetime(gold_data['Date'], format='%m/%d/%Y')\n",
    "correlation = gold_data.corr()\n",
    "correlation"
   ]
  },
  {
   "cell_type": "code",
   "execution_count": 9,
   "id": "2c0890ae-fab4-43ac-84f1-67b81616ed09",
   "metadata": {},
   "outputs": [
    {
     "data": {
      "text/plain": [
       "<Axes: >"
      ]
     },
     "execution_count": 9,
     "metadata": {},
     "output_type": "execute_result"
    },
    {
     "data": {
      "image/png": "[encoded data removed]",
      "text/plain": [
       "<Figure size 1400x700 with 2 Axes>"
      ]
     },
     "metadata": {},
     "output_type": "display_data"
    }
   ],
   "source": [
    "# Creating the heatmap for the correlation\n",
    "plt.figure(figsize=(14,7))\n",
    "sns.heatmap(correlation,annot=True,cbar=True,square=True,fmt='.1f',cmap='Blues')"
   ]
  },
  {
   "cell_type": "code",
   "execution_count": null,
   "id": "10313edf-cd6f-4b53-a9fe-1da4c156b517",
   "metadata": {},
   "outputs": [],
   "source": []
  },
  {
   "cell_type": "code",
   "execution_count": 11,
   "id": "72a2e97c-4b53-49ab-b635-fcbb0c261459",
   "metadata": {},
   "outputs": [
    {
     "data": {
      "text/plain": [
       "Date       0.209118\n",
       "SPX        0.049345\n",
       "GLD        1.000000\n",
       "USO       -0.186360\n",
       "SLV        0.866632\n",
       "EUR/USD   -0.024375\n",
       "Name: GLD, dtype: float64"
      ]
     },
     "execution_count": 11,
     "metadata": {},
     "output_type": "execute_result"
    }
   ],
   "source": [
    "# Correlations of the GLD\n",
    "correlation['GLD']"
   ]
  },
  {
   "cell_type": "code",
   "execution_count": 15,
   "id": "94bf26d1-aaba-4c4d-984e-b270a8c5f507",
   "metadata": {},
   "outputs": [
    {
     "name": "stderr",
     "output_type": "stream",
     "text": [
      "C:\\Users\\Monish. S\\AppData\\Local\\Temp\\ipykernel_2184\\4232607988.py:2: UserWarning: \n",
      "\n",
      "`distplot` is a deprecated function and will be removed in seaborn v0.14.0.\n",
      "\n",
      "Please adapt your code to use either `displot` (a figure-level function with\n",
      "similar flexibility) or `histplot` (an axes-level function for histograms).\n",
      "\n",
      "For a guide to updating your code to use the new functions, please see\n",
      "https://gist.github.com/mwaskom/de44147ed2974457ad6372750bbe5751\n",
      "\n",
      "  sns.distplot(gold_data['GLD'],color='g')\n",
      "D:\\IDE\\Anaconda\\Lib\\site-packages\\seaborn\\_oldcore.py:1119: FutureWarning: use_inf_as_na option is deprecated and will be removed in a future version. Convert inf values to NaN before operating instead.\n",
      "  with pd.option_context('mode.use_inf_as_na', True):\n"
     ]
    },
    {
     "data": {
      "text/plain": [
       "<Axes: xlabel='GLD', ylabel='Density'>"
      ]
     },
     "execution_count": 15,
     "metadata": {},
     "output_type": "execute_result"
    },
    {
     "data": {
      "image/png": "[encoded data removed]",
      "text/plain": [
       "<Figure size 640x480 with 1 Axes>"
      ]
     },
     "metadata": {},
     "output_type": "display_data"
    }
   ],
   "source": [
    "# Checking the distributions of the gold price\n",
    "sns.distplot(gold_data['GLD'],color='g')"
   ]
  },
  {
   "cell_type": "code",
   "execution_count": 68,
   "id": "1b683850-2de6-4c1d-90f1-49e971f4c1af",
   "metadata": {},
   "outputs": [],
   "source": [
    "# Splitting the features and the targets\n",
    "X = gold_data.drop(['Date','GLD'],axis=1)\n",
    "y = gold_data['GLD']"
   ]
  },
  {
   "cell_type": "code",
   "execution_count": 70,
   "id": "bf1d0660-524d-4860-ab4a-68e977cffdab",
   "metadata": {},
   "outputs": [
    {
     "data": {
      "text/html": [
       "<div>\n",
       "<style scoped>\n",
       "    .dataframe tbody tr th:only-of-type {\n",
       "        vertical-align: middle;\n",
       "    }\n",
       "\n",
       "    .dataframe tbody tr th {\n",
       "        vertical-align: top;\n",
       "    }\n",
       "\n",
       "    .dataframe thead th {\n",
       "        text-align: right;\n",
       "    }\n",
       "</style>\n",
       "<table border=\"1\" class=\"dataframe\">\n",
       "  <thead>\n",
       "    <tr style=\"text-align: right;\">\n",
       "      <th></th>\n",
       "      <th>SPX</th>\n",
       "      <th>USO</th>\n",
       "      <th>SLV</th>\n",
       "      <th>EUR/USD</th>\n",
       "    </tr>\n",
       "  </thead>\n",
       "  <tbody>\n",
       "    <tr>\n",
       "      <th>0</th>\n",
       "      <td>1447.160034</td>\n",
       "      <td>78.470001</td>\n",
       "      <td>15.1800</td>\n",
       "      <td>1.471692</td>\n",
       "    </tr>\n",
       "    <tr>\n",
       "      <th>1</th>\n",
       "      <td>1447.160034</td>\n",
       "      <td>78.370003</td>\n",
       "      <td>15.2850</td>\n",
       "      <td>1.474491</td>\n",
       "    </tr>\n",
       "    <tr>\n",
       "      <th>2</th>\n",
       "      <td>1411.630005</td>\n",
       "      <td>77.309998</td>\n",
       "      <td>15.1670</td>\n",
       "      <td>1.475492</td>\n",
       "    </tr>\n",
       "    <tr>\n",
       "      <th>3</th>\n",
       "      <td>1416.180054</td>\n",
       "      <td>75.500000</td>\n",
       "      <td>15.0530</td>\n",
       "      <td>1.468299</td>\n",
       "    </tr>\n",
       "    <tr>\n",
       "      <th>4</th>\n",
       "      <td>1390.189941</td>\n",
       "      <td>76.059998</td>\n",
       "      <td>15.5900</td>\n",
       "      <td>1.557099</td>\n",
       "    </tr>\n",
       "    <tr>\n",
       "      <th>...</th>\n",
       "      <td>...</td>\n",
       "      <td>...</td>\n",
       "      <td>...</td>\n",
       "      <td>...</td>\n",
       "    </tr>\n",
       "    <tr>\n",
       "      <th>2285</th>\n",
       "      <td>2671.919922</td>\n",
       "      <td>14.060000</td>\n",
       "      <td>15.5100</td>\n",
       "      <td>1.186789</td>\n",
       "    </tr>\n",
       "    <tr>\n",
       "      <th>2286</th>\n",
       "      <td>2697.790039</td>\n",
       "      <td>14.370000</td>\n",
       "      <td>15.5300</td>\n",
       "      <td>1.184722</td>\n",
       "    </tr>\n",
       "    <tr>\n",
       "      <th>2287</th>\n",
       "      <td>2723.070068</td>\n",
       "      <td>14.410000</td>\n",
       "      <td>15.7400</td>\n",
       "      <td>1.191753</td>\n",
       "    </tr>\n",
       "    <tr>\n",
       "      <th>2288</th>\n",
       "      <td>2730.129883</td>\n",
       "      <td>14.380000</td>\n",
       "      <td>15.5600</td>\n",
       "      <td>1.193118</td>\n",
       "    </tr>\n",
       "    <tr>\n",
       "      <th>2289</th>\n",
       "      <td>2725.780029</td>\n",
       "      <td>14.405800</td>\n",
       "      <td>15.4542</td>\n",
       "      <td>1.182033</td>\n",
       "    </tr>\n",
       "  </tbody>\n",
       "</table>\n",
       "<p>2290 rows × 4 columns</p>\n",
       "</div>"
      ],
      "text/plain": [
       "              SPX        USO      SLV   EUR/USD\n",
       "0     1447.160034  78.470001  15.1800  1.471692\n",
       "1     1447.160034  78.370003  15.2850  1.474491\n",
       "2     1411.630005  77.309998  15.1670  1.475492\n",
       "3     1416.180054  75.500000  15.0530  1.468299\n",
       "4     1390.189941  76.059998  15.5900  1.557099\n",
       "...           ...        ...      ...       ...\n",
       "2285  2671.919922  14.060000  15.5100  1.186789\n",
       "2286  2697.790039  14.370000  15.5300  1.184722\n",
       "2287  2723.070068  14.410000  15.7400  1.191753\n",
       "2288  2730.129883  14.380000  15.5600  1.193118\n",
       "2289  2725.780029  14.405800  15.4542  1.182033\n",
       "\n",
       "[2290 rows x 4 columns]"
      ]
     },
     "execution_count": 70,
     "metadata": {},
     "output_type": "execute_result"
    }
   ],
   "source": [
    "X"
   ]
  },
  {
   "cell_type": "code",
   "execution_count": 72,
   "id": "b68a09d0-54ed-4076-b830-b5ef2b403531",
   "metadata": {},
   "outputs": [
    {
     "data": {
      "text/plain": [
       "0        84.860001\n",
       "1        85.570000\n",
       "2        85.129997\n",
       "3        84.769997\n",
       "4        86.779999\n",
       "           ...    \n",
       "2285    124.589996\n",
       "2286    124.330002\n",
       "2287    125.180000\n",
       "2288    124.489998\n",
       "2289    122.543800\n",
       "Name: GLD, Length: 2290, dtype: float64"
      ]
     },
     "execution_count": 72,
     "metadata": {},
     "output_type": "execute_result"
    }
   ],
   "source": [
    "y"
   ]
  },
  {
   "cell_type": "code",
   "execution_count": 74,
   "id": "2d60cbc8-db31-4bee-8815-fbcd9f3c4592",
   "metadata": {},
   "outputs": [],
   "source": [
    "# Splitting into training data and the test data\n",
    "X_train,X_test,y_train,y_test = train_test_split(X,y,test_size=0.3,random_state=3)"
   ]
  },
  {
   "cell_type": "code",
   "execution_count": 75,
   "id": "cd496379-4fec-4196-8316-5552b305f443",
   "metadata": {},
   "outputs": [],
   "source": [
    "# Model training\n",
    "regressor = RandomForestRegressor(n_estimators=100)"
   ]
  },
  {
   "cell_type": "code",
   "execution_count": 78,
   "id": "23202ac3-5f1e-4175-9285-ff9ae79d17ce",
   "metadata": {},
   "outputs": [
    {
     "data": {
      "text/html": [
       "<style>#sk-container-id-2 {color: black;}#sk-container-id-2 pre{padding: 0;}#sk-container-id-2 div.sk-toggleable {background-color: white;}#sk-container-id-2 label.sk-toggleable__label {cursor: pointer;display: block;width: 100%;margin-bottom: 0;padding: 0.3em;box-sizing: border-box;text-align: center;}#sk-container-id-2 label.sk-toggleable__label-arrow:before {content: \"▸\";float: left;margin-right: 0.25em;color: #696969;}#sk-container-id-2 label.sk-toggleable__label-arrow:hover:before {color: black;}#sk-container-id-2 div.sk-estimator:hover label.sk-toggleable__label-arrow:before {color: black;}#sk-container-id-2 div.sk-toggleable__content {max-height: 0;max-width: 0;overflow: hidden;text-align: left;background-color: #f0f8ff;}#sk-container-id-2 div.sk-toggleable__content pre {margin: 0.2em;color: black;border-radius: 0.25em;background-color: #f0f8ff;}#sk-container-id-2 input.sk-toggleable__control:checked~div.sk-toggleable__content {max-height: 200px;max-width: 100%;overflow: auto;}#sk-container-id-2 input.sk-toggleable__control:checked~label.sk-toggleable__label-arrow:before {content: \"▾\";}#sk-container-id-2 div.sk-estimator input.sk-toggleable__control:checked~label.sk-toggleable__label {background-color: #d4ebff;}#sk-container-id-2 div.sk-label input.sk-toggleable__control:checked~label.sk-toggleable__label {background-color: #d4ebff;}#sk-container-id-2 input.sk-hidden--visually {border: 0;clip: rect(1px 1px 1px 1px);clip: rect(1px, 1px, 1px, 1px);height: 1px;margin: -1px;overflow: hidden;padding: 0;position: absolute;width: 1px;}#sk-container-id-2 div.sk-estimator {font-family: monospace;background-color: #f0f8ff;border: 1px dotted black;border-radius: 0.25em;box-sizing: border-box;margin-bottom: 0.5em;}#sk-container-id-2 div.sk-estimator:hover {background-color: #d4ebff;}#sk-container-id-2 div.sk-parallel-item::after {content: \"\";width: 100%;border-bottom: 1px solid gray;flex-grow: 1;}#sk-container-id-2 div.sk-label:hover label.sk-toggleable__label {background-color: #d4ebff;}#sk-container-id-2 div.sk-serial::before {content: \"\";position: absolute;border-left: 1px solid gray;box-sizing: border-box;top: 0;bottom: 0;left: 50%;z-index: 0;}#sk-container-id-2 div.sk-serial {display: flex;flex-direction: column;align-items: center;background-color: white;padding-right: 0.2em;padding-left: 0.2em;position: relative;}#sk-container-id-2 div.sk-item {position: relative;z-index: 1;}#sk-container-id-2 div.sk-parallel {display: flex;align-items: stretch;justify-content: center;background-color: white;position: relative;}#sk-container-id-2 div.sk-item::before, #sk-container-id-2 div.sk-parallel-item::before {content: \"\";position: absolute;border-left: 1px solid gray;box-sizing: border-box;top: 0;bottom: 0;left: 50%;z-index: -1;}#sk-container-id-2 div.sk-parallel-item {display: flex;flex-direction: column;z-index: 1;position: relative;background-color: white;}#sk-container-id-2 div.sk-parallel-item:first-child::after {align-self: flex-end;width: 50%;}#sk-container-id-2 div.sk-parallel-item:last-child::after {align-self: flex-start;width: 50%;}#sk-container-id-2 div.sk-parallel-item:only-child::after {width: 0;}#sk-container-id-2 div.sk-dashed-wrapped {border: 1px dashed gray;margin: 0 0.4em 0.5em 0.4em;box-sizing: border-box;padding-bottom: 0.4em;background-color: white;}#sk-container-id-2 div.sk-label label {font-family: monospace;font-weight: bold;display: inline-block;line-height: 1.2em;}#sk-container-id-2 div.sk-label-container {text-align: center;}#sk-container-id-2 div.sk-container {/* jupyter's `normalize.less` sets `[hidden] { display: none; }` but bootstrap.min.css set `[hidden] { display: none !important; }` so we also need the `!important` here to be able to override the default hidden behavior on the sphinx rendered scikit-learn.org. See: https://github.com/scikit-learn/scikit-learn/issues/21755 */display: inline-block !important;position: relative;}#sk-container-id-2 div.sk-text-repr-fallback {display: none;}</style><div id=\"sk-container-id-2\" class=\"sk-top-container\"><div class=\"sk-text-repr-fallback\"><pre>RandomForestRegressor()</pre><b>In a Jupyter environment, please rerun this cell to show the HTML representation or trust the notebook. <br />On GitHub, the HTML representation is unable to render, please try loading this page with nbviewer.org.</b></div><div class=\"sk-container\" hidden><div class=\"sk-item\"><div class=\"sk-estimator sk-toggleable\"><input class=\"sk-toggleable__control sk-hidden--visually\" id=\"sk-estimator-id-2\" type=\"checkbox\" checked><label for=\"sk-estimator-id-2\" class=\"sk-toggleable__label sk-toggleable__label-arrow\">RandomForestRegressor</label><div class=\"sk-toggleable__content\"><pre>RandomForestRegressor()</pre></div></div></div></div></div>"
      ],
      "text/plain": [
       "RandomForestRegressor()"
      ]
     },
     "execution_count": 78,
     "metadata": {},
     "output_type": "execute_result"
    }
   ],
   "source": [
    "# Train the model\n",
    "regressor.fit(X_train,y_train)"
   ]
  },
  {
   "cell_type": "code",
   "execution_count": 79,
   "id": "7b13c2fe-843c-40d9-b6fb-360de0adf8ec",
   "metadata": {},
   "outputs": [
    {
     "data": {
      "text/plain": [
       "array([ 91.39239847,  90.87300073,  97.44840106, ..., 104.78010035,\n",
       "       108.41309859, 127.81789904])"
      ]
     },
     "execution_count": 79,
     "metadata": {},
     "output_type": "execute_result"
    }
   ],
   "source": [
    "# Prediction on the train data\n",
    "train_data_predictions = regressor.predict(X_train)\n",
    "train_data_predictions"
   ]
  },
  {
   "cell_type": "code",
   "execution_count": 80,
   "id": "ca4ad922-dbe0-4e83-abda-fd337e8c15bb",
   "metadata": {},
   "outputs": [
    {
     "data": {
      "text/plain": [
       "array([164.34829951, 127.33979997, 124.10789963, 119.82539884,\n",
       "       126.21519905,  85.07389796, 171.87540216, 137.71750038,\n",
       "       106.52110051, 132.54730194, 120.43019944, 124.8217005 ,\n",
       "       143.77469709, 104.62849934,  80.7747992 , 120.97849955,\n",
       "       140.56110002,  90.70750068,  91.3696993 , 128.200902  ,\n",
       "       125.53910034, 147.63119975, 116.69980139, 151.78320047,\n",
       "       129.22280061, 129.59290041, 118.16450103, 111.3946001 ,\n",
       "       167.4368022 , 156.96760012, 125.88810191, 153.51620117,\n",
       "       126.94809967, 122.52399761, 116.41490109, 154.22069988,\n",
       "       115.03150001, 120.49770165, 103.81990188, 106.46160055,\n",
       "       135.39129963,  86.19699968, 156.36240191, 121.42040027,\n",
       "       122.55720056, 154.58580168, 120.15600011, 116.31160019,\n",
       "       168.56750207, 117.07130029, 139.74620117, 162.03309853,\n",
       "       158.45890079, 153.19370211, 124.24750016, 117.3698002 ,\n",
       "       167.21789998, 117.29649949, 165.61310039,  83.77499976,\n",
       "       121.43369874, 122.43749974, 119.97230019, 172.07989867,\n",
       "       119.01079952, 180.65099519, 162.12270327, 140.09860227,\n",
       "       116.25959945,  92.64690053, 171.93459947, 117.60749928,\n",
       "       117.03849951, 125.69010015, 146.78769942,  91.67510103,\n",
       "        83.7175987 ,  89.00979966, 102.67659885, 124.50780066,\n",
       "       122.81090022, 169.86540209, 121.27760028, 126.89129879,\n",
       "       160.43300575, 120.41300097, 170.2679014 , 147.92389716,\n",
       "        87.0867995 , 126.59240036, 118.71900034,  90.07140009,\n",
       "       118.36949988, 116.76559802,  89.28309913, 138.47470179,\n",
       "       159.49959965, 131.32790438, 105.46610148, 122.65259989,\n",
       "       120.54800107, 123.89510068, 107.82480064, 115.29910015,\n",
       "       114.05029951, 120.78150077, 158.4521038 , 126.64189941,\n",
       "       120.13399969,  91.12249951, 125.34039985, 161.4080989 ,\n",
       "       159.19390257,  87.51369917, 140.73420122, 167.09699779,\n",
       "       154.96820028, 109.99099965, 109.25809787, 125.28179983,\n",
       "       113.93190163, 117.43380011, 161.09540159, 121.85010031,\n",
       "       143.53559601, 117.62350035, 163.57820224, 120.02329948,\n",
       "       112.02920078, 148.36589944, 104.16969939, 121.76409943,\n",
       "        78.36079897, 160.96479846, 126.22470117, 132.1637016 ,\n",
       "       119.96100028, 106.46659942, 153.18750073, 114.36710051,\n",
       "       162.03570053, 128.13410077,  91.41640027, 121.31113776,\n",
       "       130.70809958,  89.64309933, 120.65649955, 120.18280083,\n",
       "       113.45300072,  90.86680027,  91.08799928, 117.41470024,\n",
       "       148.93850023, 113.30150053, 132.52260234, 116.84380098,\n",
       "       119.38730035, 156.49779795, 127.86400315, 113.60780128,\n",
       "       119.58790087, 140.23809933, 116.14580111,  92.28969884,\n",
       "        89.77740036, 164.58890206, 112.71520012, 115.71380101,\n",
       "       119.60760141, 114.6916    ,  91.90329931, 116.94130007,\n",
       "       154.54890214, 151.53360111,  93.16040016, 125.87440083,\n",
       "       104.27579969, 155.79010072, 115.27910015, 120.28939941,\n",
       "        91.92509919,  91.81350061, 152.72800139, 173.36479704,\n",
       "        78.46229946, 125.84359968, 119.12770021, 150.74390137,\n",
       "        91.58500089, 164.1401017 , 138.90659793, 117.40840125,\n",
       "       141.55460071,  80.90349947, 124.75699918, 119.10430104,\n",
       "        90.8950007 ,  93.96959981, 173.45699797, 165.13940111,\n",
       "       167.88620023, 139.89500232, 118.31910094, 130.96680177,\n",
       "       124.22730079, 129.27790069, 121.54500039, 122.07109871,\n",
       "       127.47259985, 102.88270024, 115.69200049, 131.67659917,\n",
       "       163.63830215, 125.72430014, 113.66910232, 123.03790033,\n",
       "        82.63850165, 102.70829875, 121.26059877, 163.24930036,\n",
       "       121.39219978,  87.98499957, 127.72590089, 108.04039985,\n",
       "       158.74910196, 164.96370061, 123.32889963, 124.48680048,\n",
       "       141.64770222,  89.69389921,  88.01520062, 115.38310026,\n",
       "       108.56130014, 128.67959813, 107.96499958, 114.75110009,\n",
       "       167.82659896, 119.88210038, 106.7871992 , 158.32089855,\n",
       "       124.8700992 , 114.40860115, 103.09950007, 150.11029956,\n",
       "       166.12789838, 171.33390293,  92.2669987 , 114.68760047,\n",
       "       118.95339939, 112.67760093, 160.21170525, 120.19179904,\n",
       "        72.98930232, 118.99099991, 114.79569974, 167.18899799,\n",
       "       119.50969994, 114.81659995,  94.13219896, 116.5051015 ,\n",
       "       128.05589782, 114.22540001, 156.38920074, 119.22870074,\n",
       "       118.72750117, 161.45189987, 118.49750037,  94.89759895,\n",
       "       117.68260087, 167.0174011 , 111.0596988 , 147.09510264,\n",
       "       119.04340036,  86.29239932, 171.69720173, 156.31859808,\n",
       "       161.94040031,  84.58069814, 119.88930033, 108.11470067,\n",
       "        92.70850057,  72.65479973,  92.53430054, 117.55989997,\n",
       "       176.4949997 , 116.16580059, 123.85229927,  86.72469887,\n",
       "       113.51290053, 111.8739003 , 161.7595041 , 118.96190119,\n",
       "        87.21919779, 165.75419793, 125.30120046, 126.02640006,\n",
       "       121.09889989, 116.59570034,  89.98059981, 146.80110005,\n",
       "       108.7356988 ,  91.68029834, 118.03049978, 152.5846022 ,\n",
       "       123.20799938, 143.09119974, 148.08580147, 108.23429959,\n",
       "       129.21050294, 111.94579987, 113.84809999, 115.13120002,\n",
       "       157.65709809,  83.0324987 , 126.0237    ,  91.56929996,\n",
       "       113.19070025, 127.44599822,  92.74299999, 129.62290123,\n",
       "       124.48929883, 128.04239794, 121.61179916,  90.01269989,\n",
       "        85.23849852, 135.58659966, 164.20460203, 169.23969926,\n",
       "       159.88280337, 124.81919944, 106.65600017, 116.23490032,\n",
       "       124.44759927,  90.94470016, 166.76509825,  91.64429905,\n",
       "       127.91360075, 117.02340102, 166.38170031, 115.56679914,\n",
       "       163.09500177, 166.03889961,  84.23369958, 117.46770064,\n",
       "       102.01999845, 131.46880167, 112.74090029,  80.16519942,\n",
       "        92.75729981, 135.63329957,  98.22379967, 117.23739868,\n",
       "       116.56080084, 119.27040048, 126.35950052, 115.23139985,\n",
       "        97.21570108,  73.17369901, 118.5456996 ,  89.26680015,\n",
       "       135.43709965, 113.0948002 , 114.97919993, 110.41380117,\n",
       "        85.4173989 , 113.49350094, 126.26520139, 156.14229851,\n",
       "       119.85670015,  77.37580003, 113.77460021,  85.29019822,\n",
       "       114.19170068,  96.06580156, 115.84860019, 125.66279936,\n",
       "       114.04010043, 117.22059878, 118.5237002 , 125.60869853,\n",
       "       111.84730204, 109.60470065, 164.69090378,  96.0783992 ,\n",
       "       121.08870108,  92.20710053, 116.30840141, 110.87079939,\n",
       "       155.71100335, 117.456199  , 154.34890065,  86.48229942,\n",
       "       141.79969907, 110.08469953, 106.45010021, 128.0931982 ,\n",
       "       119.51199944, 120.16010052, 117.4086004 , 147.82960129,\n",
       "       109.31749819, 134.67240189, 158.76239985, 106.30179926,\n",
       "       102.5730996 , 166.34689998, 119.51010085, 140.86960322,\n",
       "       104.87510079,  94.13019928, 113.87040112, 123.51090117,\n",
       "       109.55809832, 167.91049984, 171.14860248, 118.17439903,\n",
       "       168.83369862, 126.34730074, 160.36900475,  95.80729966,\n",
       "        99.07029926, 125.57810013,  72.85950094,  90.43399926,\n",
       "        93.65910108, 148.45969712, 113.78540137, 107.5181992 ,\n",
       "       122.75369876,  88.99479923, 149.06310138,  93.76509796,\n",
       "        86.06159847, 107.13570075,  74.31819994, 134.71979956,\n",
       "       167.20240182, 118.01629935, 117.95089903,  96.39240159,\n",
       "       126.21269979, 127.85970058, 113.75849977, 126.86650004,\n",
       "       127.58720008, 115.80500062,  95.76239945, 123.23359937,\n",
       "       126.25080059,  90.19349953, 134.04249983, 118.69930052,\n",
       "       115.99269845, 145.61969807,  94.1951011 , 116.59630033,\n",
       "        87.85510059, 119.81400008, 115.36910005, 121.42069944,\n",
       "       152.68879972, 126.95960115, 120.30900029, 109.37610078,\n",
       "        74.71770118,  86.46639946, 125.68710053, 125.75119955,\n",
       "       127.59239922, 116.49830106, 120.39670011,  92.72040003,\n",
       "       117.58929949, 111.59610001, 106.59619994, 123.19050067,\n",
       "       118.29070105, 125.47450026, 106.96409935, 121.8719993 ,\n",
       "       109.94679738, 106.86609967, 116.27350135, 154.48780177,\n",
       "       134.76609995, 126.08690093, 124.07069888,  87.46209979,\n",
       "       127.79159752,  91.73149968, 144.72500109, 114.21179953,\n",
       "       129.58040054, 109.06199922,  80.58869939, 113.15420105,\n",
       "       131.11770148, 117.44639954, 107.42940088,  92.35949881,\n",
       "       157.69779936, 161.14419799,  91.70319894, 117.1333992 ,\n",
       "        82.74310127, 156.81810318, 112.18840012, 167.38879507,\n",
       "       126.54159854, 137.89069933, 126.6416008 , 126.74550021,\n",
       "       107.05560136, 126.01379991, 132.71610094, 127.59350004,\n",
       "       140.01770411,  99.75970134, 125.61040016, 110.85370058,\n",
       "       173.64229817, 113.88170084, 112.75220023, 105.6181002 ,\n",
       "       119.8935015 , 135.52869758, 124.69810088, 123.12429921,\n",
       "       101.89040054, 121.73010095, 104.65440072, 123.10879856,\n",
       "       126.54849817, 118.14819945, 114.28239952, 127.28790049,\n",
       "       153.24060151, 131.52810173, 176.42899656, 115.03010148,\n",
       "       112.22499955, 127.5343999 , 115.92450043, 117.53369976,\n",
       "       128.40120117, 117.83560019, 115.57100066, 113.38819895,\n",
       "       107.85580068, 126.17409864,  90.86190068,  94.7671005 ,\n",
       "       108.65639947, 121.21499986,  86.74959957, 120.64073951,\n",
       "       126.40769926, 163.58770231, 109.41589889, 128.8921985 ,\n",
       "       159.40219923, 142.57209953, 125.05240115, 120.05370058,\n",
       "        99.8464013 , 109.15649792,  91.34240172, 117.80950003,\n",
       "       107.98770028, 109.71619842,  91.54959984, 122.52869969,\n",
       "       101.96349857, 108.70209994, 129.51330115,  86.22589934,\n",
       "       116.67550116, 103.04310001, 109.86099976, 141.55619674,\n",
       "       112.8929    ,  87.99669971, 118.57790116, 156.35030081,\n",
       "       102.68389984,  87.58059994, 153.8675005 , 108.20229956,\n",
       "       122.63630023, 136.68600356, 105.25820051, 155.66180353,\n",
       "       113.66360023, 135.21110167, 106.32970079, 126.78060072,\n",
       "       110.65500028,  87.25329887, 124.18259924, 164.75940077,\n",
       "        84.20929841,  81.23189915, 166.8241993 , 112.81550196,\n",
       "       112.35500066, 118.72409875,  89.44040068,  93.13600112,\n",
       "       151.7933987 , 114.39100038, 114.63889968, 157.84399983,\n",
       "        91.65769965, 170.59690238,  76.14389821, 122.014999  ,\n",
       "       113.09610021, 117.62800117, 113.54770075, 152.13950247,\n",
       "       104.70550052, 160.93219739,  87.00589799, 150.28690004,\n",
       "        90.55239899, 124.66430017, 108.49549986, 115.41179999,\n",
       "       148.8775992 , 120.3128994 , 118.53610109,  87.53100015,\n",
       "       120.8964006 ,  76.20580051, 154.6951017 , 120.4525007 ,\n",
       "        91.05319966, 114.45329993, 148.84760079, 131.36839884,\n",
       "       162.10859767, 125.6026001 , 102.39169874, 122.31840014,\n",
       "       117.83210078, 155.55199887, 108.69820021, 132.55510286,\n",
       "       148.34729741, 127.22759957, 154.87480029, 125.15669982,\n",
       "        91.65479857,  88.29770022, 160.82809881, 154.11360214,\n",
       "       121.11269946, 105.13070053,  95.27120107, 127.00309988,\n",
       "       117.26320035, 124.67690134, 117.71509963,  90.91939967,\n",
       "       166.42210096, 146.4379004 , 113.84119977,  85.28689853,\n",
       "       125.6401002 , 154.24890354, 120.33280116, 153.3180019 ,\n",
       "       161.16399959,  92.87030086, 105.48789987, 127.5384987 ,\n",
       "       143.62740211, 122.37400062, 164.8261035 , 116.43650001,\n",
       "       113.29339935, 154.41229993, 112.01840063, 111.56609991,\n",
       "       111.54049915, 105.52009956, 168.82689951])"
      ]
     },
     "execution_count": 80,
     "metadata": {},
     "output_type": "execute_result"
    }
   ],
   "source": [
    "# Prediction on the test data\n",
    "test_data_predictions = regressor.predict(X_test)\n",
    "test_data_predictions"
   ]
  },
  {
   "cell_type": "code",
   "execution_count": 81,
   "id": "b83c8214-5c79-403a-ad9f-084544be6484",
   "metadata": {
    "scrolled": true
   },
   "outputs": [
    {
     "data": {
      "text/plain": [
       "0.9984410777101225"
      ]
     },
     "execution_count": 81,
     "metadata": {},
     "output_type": "execute_result"
    }
   ],
   "source": [
    "# Model evaluation using R squared\n",
    "error_score_train = r2_score(y_train,train_data_predictions)\n",
    "error_score"
   ]
  },
  {
   "cell_type": "code",
   "execution_count": 82,
   "id": "7a777c2b-2aa2-41e4-93c4-2eb7b43ea299",
   "metadata": {},
   "outputs": [
    {
     "data": {
      "text/plain": [
       "0.9984410777101225"
      ]
     },
     "execution_count": 82,
     "metadata": {},
     "output_type": "execute_result"
    }
   ],
   "source": [
    "# Model evaluation using R squared\n",
    "error_score_test = r2_score(y_test,test_data_predictions)\n",
    "error_score"
   ]
  },
  {
   "cell_type": "code",
   "execution_count": 83,
   "id": "391897f4-7f1c-41bd-88b7-6282a3a73d07",
   "metadata": {},
   "outputs": [],
   "source": [
    "# Compare the actual values and the predicted values\n",
    "y_test = list(y_test)"
   ]
  },
  {
   "cell_type": "code",
   "execution_count": 84,
   "id": "71ec463c-cca7-4014-98ec-6a230999d1d9",
   "metadata": {},
   "outputs": [
    {
     "data": {
      "image/png": "[encoded data removed]",
      "text/plain": [
       "<Figure size 640x480 with 1 Axes>"
      ]
     },
     "metadata": {},
     "output_type": "display_data"
    }
   ],
   "source": [
    "plt.plot(y_test,color='blue',label = \"Actual Value\")\n",
    "plt.plot(test_data_predictions,color='g',label=\"Predicted values\")\n",
    "plt.xlabel(\"Number of values\")\n",
    "plt.ylabel(\"Gold Price\")\n",
    "plt.legend()\n",
    "plt.show()"
   ]
  },
  {
   "cell_type": "code",
   "execution_count": null,
   "id": "7b911c96-ae48-4251-a12d-c1cabd37f5b1",
   "metadata": {},
   "outputs": [],
   "source": []
  },
  {
   "cell_type": "code",
   "execution_count": null,
   "id": "789adb03-c6ee-44d3-a80a-d1a5a489014a",
   "metadata": {},
   "outputs": [],
   "source": []
  },
  {
   "cell_type": "code",
   "execution_count": null,
   "id": "aad5b6c2-0ce2-43cf-9d15-cf79e09d53b6",
   "metadata": {},
   "outputs": [],
   "source": []
  }
 ],
 "metadata": {
  "kernelspec": {
   "display_name": "Python 3 (ipykernel)",
   "language": "python",
   "name": "python3"
  },
  "language_info": {
   "codemirror_mode": {
    "name": "ipython",
    "version": 3
   },
   "file_extension": ".py",
   "mimetype": "text/x-python",
   "name": "python",
   "nbconvert_exporter": "python",
   "pygments_lexer": "ipython3",
   "version": "3.11.7"
  }
 },
 "nbformat": 4,
 "nbformat_minor": 5
}
